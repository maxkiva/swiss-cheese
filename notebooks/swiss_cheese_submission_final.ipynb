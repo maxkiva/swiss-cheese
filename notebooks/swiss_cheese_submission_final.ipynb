{
 "cells": [
  {
   "cell_type": "code",
   "execution_count": 1,
   "id": "dd1970c6bb5e117e",
   "metadata": {
    "ExecuteTime": {
     "end_time": "2025-04-20T21:25:41.551466Z",
     "start_time": "2025-04-20T21:25:41.548103Z"
    }
   },
   "outputs": [],
   "source": [
    "SWISS_CHEESE_RESOURCES_URL = \"https://raw.githubusercontent.com/maxkiva/swiss-cheese/main/resources\"\n",
    "TAX_DOC_BASE_URL = \"https://raw.githubusercontent.com/maxkiva/swiss-cheese/main/docs\"\n",
    "GEN_AI_MODEL = \"gemini-2.0-flash\"\n",
    "EMBEDDINGS_MODEL_ID = \"models/embedding-001\""
   ]
  },
  {
   "cell_type": "markdown",
   "id": "c1f4913e5bb8ced5",
   "metadata": {},
   "source": [
    "<p align=\"center\">\n",
    "  <img src=\"https://raw.githubusercontent.com/maxkiva/swiss-cheese/main/resources/swiss_cheese.png\" alt=\"Swiss Cheese Logo\" width=\"250\"/>\n",
    "</p>\n",
    "\n",
    "---\n",
    "\n",
    "### Project Summary: Swiss Cheese – A Swiss Tax Assistant Powered by GenAI\n",
    "\n",
    "**Purpose:**\n",
    "This project presents **Swiss Cheese**, a GenAI-powered assistant designed to simplify the Swiss tax filing process. The system leverages generative AI to extract, interpret, and contextualize financial data—particularly from scanned *Lohnausweis* (salary statements)—and integrates official tax rules to compute provisional tax liabilities. It is intended as a modular and scalable assistant capable of helping residents navigate the complexities of Swiss taxation.\n",
    "\n",
    "---\n",
    "\n",
    "**Key Techniques and Methods Used:**\n",
    "\n",
    "- **Document Parsing & Understanding:**\n",
    "  - Processes images or text versions of individual salary certificates (*Lohnausweis*) and extracts structured fields using LLMs with prompt-based techniques.\n",
    "  - Uses language models to interpret official tax regulation documents and extract applicable tax rates.\n",
    "\n",
    "- **Regulation Retrieval with Semantic Search:**\n",
    "  - Extracts relevant paragraphs from official tax declaration guides using LLMs.\n",
    "  - Embeds these paragraphs to enable contextual retrieval using a retrieval-augmented generation (RAG) approach.\n",
    "\n",
    "- **LLM-Powered Reasoning & Chat:**\n",
    "  - Employs Google Gemini models via LangChain and LangGraph to support multi-turn dialogue, structured output formatting, and reasoning over the retrieved rules and extracted user data.\n",
    "\n",
    "- **LangGraph Workflow:**\n",
    "  - Constructs a modular LangGraph that separates functional roles such as:\n",
    "    - User input processing\n",
    "    - Document field extraction\n",
    "    - Regulation retrieval\n",
    "    - Tax liability computation\n",
    "    - Chat interaction\n",
    "\n",
    "---\n",
    "\n",
    "**Outcome:**\n",
    "Swiss Cheese demonstrates a working prototype of a conversational assistant that combines LLM capabilities, regulation parsing, and user input handling to deliver an explainable and user-friendly tax estimation process tailored to the Swiss context.\n",
    "\n"
   ]
  },
  {
   "cell_type": "code",
   "execution_count": 2,
   "id": "c67d9366e753a610",
   "metadata": {
    "ExecuteTime": {
     "end_time": "2025-04-20T21:25:43.276749Z",
     "start_time": "2025-04-20T21:25:41.747876Z"
    }
   },
   "outputs": [],
   "source": [
    "import json\n",
    "import os\n",
    "from io import StringIO\n",
    "from typing import Annotated\n",
    "from typing import Literal\n",
    "from typing import Optional\n",
    "\n",
    "import PIL.Image as Pim\n",
    "import pandas as pd\n",
    "import requests\n",
    "from IPython.display import display, Markdown, HTML\n",
    "from dotenv import load_dotenv\n",
    "from google import genai\n",
    "from google.api_core import retry\n",
    "from google.genai import types\n",
    "from json_repair import repair_json\n",
    "from langchain.vectorstores import Chroma\n",
    "from langchain_core.documents import Document\n",
    "from langchain_google_genai import GoogleGenerativeAIEmbeddings\n",
    "from langgraph.graph import StateGraph, START, END\n",
    "from langgraph.graph.message import add_messages\n",
    "from typing_extensions import TypedDict\n"
   ]
  },
  {
   "cell_type": "markdown",
   "id": "860a411a87fe2e97",
   "metadata": {},
   "source": [
    "### Google api key\n",
    "\n",
    "Set up google api key when running either on kaggle or locally\n"
   ]
  },
  {
   "cell_type": "code",
   "execution_count": 3,
   "id": "382f59c098a2ab2e",
   "metadata": {
    "ExecuteTime": {
     "end_time": "2025-04-20T21:25:43.293348Z",
     "start_time": "2025-04-20T21:25:43.287386Z"
    }
   },
   "outputs": [],
   "source": [
    "# Setup google api key\n",
    "try:\n",
    "    from kaggle_secrets import UserSecretsClient\n",
    "    os.environ[\"GOOGLE_API_KEY\"] = UserSecretsClient().get_secret(\"GOOGLE_API_KEY\")\n",
    "except:\n",
    "    load_dotenv()"
   ]
  },
  {
   "cell_type": "markdown",
   "id": "5f3ee55d6b41d7cb",
   "metadata": {},
   "source": [
    "### Utilities\n",
    "\n",
    "Iterable lambda and a function to download documentation"
   ]
  },
  {
   "cell_type": "code",
   "execution_count": 4,
   "id": "f5ea10233e46bee0",
   "metadata": {
    "ExecuteTime": {
     "end_time": "2025-04-20T21:25:43.342018Z",
     "start_time": "2025-04-20T21:25:43.337245Z"
    }
   },
   "outputs": [],
   "source": [
    "# utility functions\n",
    "is_retriable = lambda e: (isinstance(e, genai.errors.APIError) and e.code in {429, 503})\n",
    "\n",
    "def download_file_if_needed(url, file_path):\n",
    "    \"\"\"\n",
    "    Downloads a file from the given URL if it does not already exist or is of zero length.\n",
    "    If the download fails, it raises an exception.\n",
    "\n",
    "    Args:\n",
    "        url (str): The URL from which to download the file.\n",
    "        file_path (str): The local path where the file should be stored.\n",
    "\n",
    "    Raises:\n",
    "        requests.exceptions.RequestException: If the download fails or response status is not 200\n",
    "        IOError: If there are issues writing the file\n",
    "    \"\"\"\n",
    "    # Check if the file already exists and is of non-zero length\n",
    "    if os.path.exists(file_path) and os.path.getsize(file_path) > 0:\n",
    "        return\n",
    "\n",
    "    # Download the file if necessary\n",
    "    response = requests.get(url, stream=True)\n",
    "\n",
    "    if response.status_code == 200:  # Ensure the request was successful\n",
    "        try:\n",
    "            with open(file_path, \"wb\") as file:\n",
    "                for chunk in response.iter_content(chunk_size=8192):\n",
    "                    file.write(chunk)\n",
    "        except IOError as e:\n",
    "            raise IOError(f\"Failed to write file {file_path}: {str(e)}\")\n",
    "    else:\n",
    "        raise requests.exceptions.RequestException(\n",
    "            f\"Failed to download the file. Status code: {response.status_code}\"\n",
    "        )"
   ]
  },
  {
   "cell_type": "markdown",
   "id": "eb499a0b85e0f669",
   "metadata": {},
   "source": [
    "### Demo mode\n",
    "\n",
    "Define a custom input function to run the notebook in non-interactive demo mode."
   ]
  },
  {
   "cell_type": "code",
   "execution_count": 5,
   "id": "390640131b04b715",
   "metadata": {
    "ExecuteTime": {
     "end_time": "2025-04-20T21:25:43.391015Z",
     "start_time": "2025-04-20T21:25:43.387077Z"
    }
   },
   "outputs": [],
   "source": [
    "# Set this to false to run in the interactive mode.\n",
    "DEMO_MODE = True\n",
    "\n",
    "# preset list of answers to inputs when running in demo mode\n",
    "DEMO_QUESTION_LIST = (\n",
    "    f\"{TAX_DOC_BASE_URL}/Lohnausweis_2024_1_fake.png\",\n",
    "    \"Calculate total tax with breakdown by gemeinde, kanton and bundes components, just provide the numbers. No explanations\",\n",
    "    \"Explain how bundes tax was calculated showing numbers every step of the way\",\n",
    "    \"How do I fill in income from investments\",\n",
    "    \"Which fields do I populate with details from Lohnausweis\",\n",
    "    \"q\"\n",
    ")\n",
    "\n",
    "def sequential_items(string_list):\n",
    "    \"\"\"\n",
    "    Return items from the provided string list sequentially using a generator.\n",
    "    \"\"\"\n",
    "    for item in string_list:\n",
    "        yield item\n",
    "\n",
    "\n",
    "demo_question_generator = sequential_items(DEMO_QUESTION_LIST)\n",
    "\n",
    "def optional_input(text):\n",
    "    if DEMO_MODE:\n",
    "        return next(demo_question_generator)\n",
    "    else:\n",
    "        return input(text)\n"
   ]
  },
  {
   "cell_type": "markdown",
   "id": "2ad23a55e69ce300",
   "metadata": {},
   "source": [
    "### Tax rules and documentation\n",
    "\n",
    "Set up urls for tax regulations. Some of them have been pre downloaded and placed on the GitHub for simplicity\n",
    "\n",
    "These include\n",
    "\n",
    "- Canton Zürich tax declaration guide for the year 2024\n",
    "- Document describing swiss taxation system in general terms\n",
    "- Short overview  Canton Zürich taxation\n",
    "- Municipal (Gemeinde) tax rates\n",
    "- State tax law with relevant tax rates\n",
    "- Cantonal tax law with relevant tax rates\n"
   ]
  },
  {
   "cell_type": "code",
   "execution_count": 6,
   "id": "ad49edd4964df68d",
   "metadata": {
    "ExecuteTime": {
     "end_time": "2025-04-20T21:25:43.448463Z",
     "start_time": "2025-04-20T21:25:43.445028Z"
    }
   },
   "outputs": [],
   "source": [
    "Steuertarife_direkte_Bundessteuer_natürliche_Personen_2024 = \"https://www.estv.admin.ch/dam/estv/de/dokumente/dbst/tarife/dbst-tairfe-58c-2024-de.pdf.download.pdf/dbst-tairfe-58c-2024-de.pdf\"\n",
    "\n",
    "SWISS_CHEESE_RESOURCES_URL = \"https://raw.githubusercontent.com/maxkiva/swiss-cheese/main/resources\"\n",
    "TAX_DOC_BASE_URL = \"https://raw.githubusercontent.com/maxkiva/swiss-cheese/main/docs\"\n",
    "\n",
    "# Tax document filenames\n",
    "ZH_2024_TAX_MANUAL = \"305_Wegleitung_ZH_2024.pdf\"\n",
    "SWISS_TAX_SYSTEM = \"ch_steuersystem.pdf\"\n",
    "SHORT_INTRO_INTO_ZH_TAXES = \"steuern_zh_kurz_de_20231130.pdf\"\n",
    "BUNDES_STEUER_GESETZ = \"bundessteuer_642_11.pdf\"\n",
    "KANTON_STEUER_GESETZ = \"kantonsteuer_631_1.pdf\"\n"
   ]
  },
  {
   "cell_type": "markdown",
   "id": "b06c9aff099f3e05",
   "metadata": {},
   "source": [
    "### Categorization of the questions\n",
    "\n",
    "Use LLM to determine whether the question posted in the chat relates to tax form filling or tax calculation.\n",
    "\n",
    "Then use RAG with an embedded tax form guide to answer questions about tax form or separate \"main_chat\" LLM to estimate taxes and provide relevant commentary"
   ]
  },
  {
   "cell_type": "code",
   "execution_count": 7,
   "id": "7fe3f2c014bc387f",
   "metadata": {
    "ExecuteTime": {
     "end_time": "2025-04-20T21:25:43.501018Z",
     "start_time": "2025-04-20T21:25:43.496353Z"
    }
   },
   "outputs": [],
   "source": [
    "QUESTION_TYPE_PROMPT =\\\n",
    "\"\"\"\n",
    "\n",
    "Determine the following question category.\n",
    "\n",
    "QUESTION: {}\n",
    "\n",
    "The question may have only two categories\n",
    "a) Related to tax calculation\n",
    "b) Or related to tax declaration filling.\n",
    "\n",
    "Provide answer based on the following Python class structure:\n",
    "\n",
    "\n",
    "class QuestionCategoryEnum(str, Enum):\n",
    "    TaxCalculation = 'TaxCalculation'\n",
    "    TaxDeclaration = 'TaxDeclaration'\n",
    "\n",
    "class QuestionCategory(TypedDict)\n",
    "  category: QuestionCategoryEnum\n",
    "\n",
    "\"\"\"\n",
    "\n",
    "class QuestionCategoryAnalyzer:\n",
    "    def __init__(self):\n",
    "        self.client = genai.Client(api_key=os.environ[\"GOOGLE_API_KEY\"])\n",
    "\n",
    "    @retry.Retry(predicate=is_retriable)\n",
    "    def determine_category(self,question:str  ) -> str:\n",
    "        prompt = QUESTION_TYPE_PROMPT.format(question)\n",
    "        response = self.client.models.generate_content(\n",
    "            model=GEN_AI_MODEL,\n",
    "            contents=prompt,\n",
    "            config=types.GenerateContentConfig(\n",
    "            temperature=0,\n",
    "            response_mime_type=\"application/json\"\n",
    "            )\n",
    "        )\n",
    "        return json.loads(repair_json(response.text))[\"category\"]\n"
   ]
  },
  {
   "cell_type": "markdown",
   "id": "48817b85d6cc78ac",
   "metadata": {},
   "source": [
    "### Tax form guide embedding\n",
    "\n",
    "Engineer a prompt for extracting the paragraphs from the tax form guide using LLM. This works better than PDF Loader from langchain.\n",
    "\n",
    "The embedding is generated using chroma DB and used in RAG"
   ]
  },
  {
   "cell_type": "code",
   "execution_count": 8,
   "id": "88d6a065147afef1",
   "metadata": {
    "ExecuteTime": {
     "end_time": "2025-04-20T21:25:43.548602Z",
     "start_time": "2025-04-20T21:25:43.545873Z"
    }
   },
   "outputs": [],
   "source": [
    "# Load and vectorize tax manual\n",
    "WEGLEITUNG_PROMPT = \\\n",
    "\"\"\"\n",
    "Attached is the guide for filling in tax declaration for the year 2024 in Kanton Zürich, Switzerland.\n",
    "\n",
    "Generate list of paragraphs with their content.\n",
    "\n",
    "The output must be based on the following Python class structure:\n",
    "\n",
    "class Paragraph(TypedDict):\n",
    "  title: str\n",
    "  content: str\n",
    "\n",
    "class Paragraphs(TypedDict):\n",
    "  paragraphs: list[Paragraph]\n",
    "\n",
    "\"\"\"\n",
    "\n"
   ]
  },
  {
   "cell_type": "code",
   "execution_count": 9,
   "id": "ad1109d9a164f285",
   "metadata": {
    "ExecuteTime": {
     "end_time": "2025-04-20T21:25:43.602606Z",
     "start_time": "2025-04-20T21:25:43.596520Z"
    }
   },
   "outputs": [],
   "source": [
    "ZH_2024_TAX_MANUAL = \"305_Wegleitung_ZH_2024.pdf\"\n",
    "\n",
    "class TaxDeclarationSpecialist:\n",
    "    prompt_template = \"\"\"You are a helpful and informative bot that answers questions related to Kanton Zürich ( Switzerland) tax declaration\n",
    "    using text from the reference passage(s) included below.\n",
    "    Passages originate from document called \"Wegleitung zur Steuererklärung 2024\"\n",
    "    Passages would be in German and you will need to provide answer in English.\n",
    "\n",
    "    When providing answers also refer to the tax declaration form in the attached PDF document.\n",
    "\n",
    "    Be sure to respond in a complete sentence, being comprehensive, including all relevant background information.\n",
    "    However, you are talking to a non-financial audience, so be sure to break down complicated concepts and\n",
    "    strike a friendly and converstional tone. If the passage is irrelevant to the answer, you may ignore it.\n",
    "\n",
    "    QUESTION: {}\n",
    "    \"\"\"\n",
    "    def __init__(self):\n",
    "        self.client = genai.Client(api_key=os.environ[\"GOOGLE_API_KEY\"])\n",
    "        self.vector_store = None\n",
    "        self.ref_manual = None\n",
    "        self.ref_form = None\n",
    "\n",
    "    @retry.Retry(predicate=is_retriable)\n",
    "    def set_up_vector_store(self):\n",
    "        doc_file = \"STE_ZH_2024.pdf\"\n",
    "        download_file_if_needed(f\"{TAX_DOC_BASE_URL}/{doc_file}\", doc_file)\n",
    "        self.ref_form = self.client.files.upload(file=doc_file)\n",
    "\n",
    "        download_file_if_needed(f\"{TAX_DOC_BASE_URL}/{ZH_2024_TAX_MANUAL}\", ZH_2024_TAX_MANUAL)\n",
    "        self.ref_manual = self.client.files.upload(file=ZH_2024_TAX_MANUAL)\n",
    "\n",
    "        response = self.client.models.generate_content(\n",
    "            model=GEN_AI_MODEL,\n",
    "            contents=[self.ref_manual, WEGLEITUNG_PROMPT],\n",
    "            config=types.GenerateContentConfig(\n",
    "            temperature=0,\n",
    "            response_mime_type=\"application/json\"\n",
    "            )\n",
    "        )\n",
    "        paras = json.loads(repair_json(response.text))\n",
    "        # transform the returned JSON into a list of paragraphs ready for vectorization\n",
    "        docs = [Document(f\"*{para['title']}*\\n{para['content']}\") for para in paras[\"paragraphs\"] if para.get(\"content\")]\n",
    "        embeddings = GoogleGenerativeAIEmbeddings(model=EMBEDDINGS_MODEL_ID)\n",
    "        self.vector_store  = Chroma.from_documents(docs, embeddings, persist_directory=\"chroma_index\")\n",
    "\n",
    "\n",
    "\n",
    "    def ask_question_about_tax_form(self, question: str) -> str:\n",
    "        query_oneline = question.replace(\"\\n\", \" \")\n",
    "        vector_search_result = self.vector_store.similarity_search(query_oneline, k=3)\n",
    "\n",
    "        prompt = self.prompt_template.format(query_oneline)\n",
    "        for passage in vector_search_result:\n",
    "            passage_oneline = passage.page_content.replace(\"\\n\", \" \")\n",
    "            prompt += f\"PASSAGE: {passage_oneline}\\n\"\n",
    "\n",
    "        response = self.client.models.generate_content(\n",
    "            model=GEN_AI_MODEL,\n",
    "             contents=[self.ref_form, prompt]\n",
    "            )\n",
    "        #Markdown(response.text)\n",
    "        return response.text"
   ]
  },
  {
   "cell_type": "code",
   "execution_count": 10,
   "id": "ca3160ac47abac4",
   "metadata": {
    "ExecuteTime": {
     "end_time": "2025-04-20T21:25:43.650611Z",
     "start_time": "2025-04-20T21:25:43.646929Z"
    }
   },
   "outputs": [],
   "source": [
    "class TaxChatState(TypedDict):\n",
    "    \"\"\"State of the tax chatbot.\n",
    "    Keeps\n",
    "        * conversation history\n",
    "        \" municipal tax data\n",
    "        * tax rules documents vectorstore\n",
    "        * json data representing the salary certificate\"\"\"\n",
    "    messages: Annotated[list, add_messages]\n",
    "\n",
    "    user_input : str\n",
    "\n",
    "    response: str\n",
    "\n",
    "    # municipal tax rates\n",
    "    municipal_tax_rates: Optional[str]\n",
    "\n",
    "    # provincial and state tax rates\n",
    "    kanton_and_bundes_tax_rates: Optional[str]\n",
    "\n",
    "    # JSON representation of salary certificate\n",
    "    lohnausweis: Optional[dict]\n",
    "\n",
    "    #tax declaration manual, vectorized\n",
    "    manual_vectorstore: Optional[object]\n",
    "\n",
    "    main_chat : 'SwissCheeseTaxChat'\n",
    "\n",
    "    quit: bool\n"
   ]
  },
  {
   "cell_type": "markdown",
   "id": "e445026e60a3a6b7",
   "metadata": {},
   "source": [
    "### Prompt engineering for main chat\n",
    "\n",
    "The prompt for main chat is built using the data extracted from tax regulations and salary certificate"
   ]
  },
  {
   "cell_type": "code",
   "execution_count": 11,
   "id": "d9a75c7305c24924",
   "metadata": {
    "ExecuteTime": {
     "end_time": "2025-04-20T21:25:43.704372Z",
     "start_time": "2025-04-20T21:25:43.697308Z"
    }
   },
   "outputs": [],
   "source": [
    "# create the head of the prompt with all the details (with caveats) to compute the taxes\n",
    "def get_main_chat_prompt(state : TaxChatState ):\n",
    "    details = state[\"lohnausweis\"]\n",
    "    return f\"\"\"\n",
    "    You are friendly expert in Swiss taxes and specifically in taxes in Canton Zürich.\n",
    "\n",
    "    You will be providing advice on all aspects of personal taxes to the person with following details\n",
    "    extracted from his/her salary certificate (Lohnausweis) :\n",
    "\n",
    "        Position C - AHV Numer  : {details['f_c_ahv_number']}\n",
    "        Position C - Geburtsdatum : {details['f_c_birthday']}\n",
    "        Position E - Start der Steuerperiode : {details['f_e_from']}\n",
    "        Position E - Ende der Steuerperiode : {details['f_e_to']}\n",
    "        Position H - Name und Adresse :\n",
    "               {details['f_h_title']}\n",
    "               {details['f_h_name']}\n",
    "               {details['f_h_Street']}\n",
    "               {details['f_h_postcode']} {details['f_h_city']}\n",
    "        Ziffer 1 - Lohn : {details['f_1_lohn']}\n",
    "        Ziffer 3 - Unregelmässige Leistungen  : {details['f_h_3_award']}\n",
    "        Ziffer 8 - Bruttolohn total : {details['f_8_bruttolohn_total']}\n",
    "        Ziffer 9 - Beiträge AHV : {details['f_9_beitraege_ahv']}\n",
    "        Ziffer 10 - Berufliche Vorsorge\n",
    "        Ziffer 10.1 - Ordentliche Beiträge : {details['f_10_1_ordentliche_beitraege']}\n",
    "        Ziffer 10.2 - Beiträge für den Einkauf : {details['f_10_2_beitraege_fur_den_einkauf']}\n",
    "        Ziffer 11 - Nettolohn : {details['f_10_2_beitraege_fur_den_einkauf']}\n",
    "        Ziffer 12 - Quellensteuerabzug : {details['f_12_quellensteuerabzug']}\n",
    "\n",
    "        Assume following :\n",
    "            * that the person in question does not belong to any religious confession\n",
    "            * that the person is single\n",
    "            * average krankenkasse contribution for the age\n",
    "\n",
    "        Use following rates :\n",
    "\n",
    "        {state['municipal_tax_rates']}\n",
    "\n",
    "        {state['kanton_and_bundes_tax_rates']}\n",
    "\n",
    "        You will be provided history of questions asked and answers provided by you (if exists) like shown in this example\n",
    "\n",
    "        \"\n",
    "        PREVIOUS_QUESTION_1: How to compute taxes\n",
    "        ANSWER_TO_PREVIOUS_QUESTION_1 :\n",
    "            Taxes are not too complicated\n",
    "\n",
    "        PREVIOUS_QUESTION_2: How do I compute my municipal tax\n",
    "        ANSWER_TO_PREVIOUS_QUESTION_2 :\n",
    "            You do it this way ...\n",
    "        \"\n",
    "\n",
    "        The question to be answered shall be marked with text \"NEW_QUESTION\"\n",
    "\n",
    "        When answering question provide short and to the point answers providing details exactly as asked.\n",
    "\n",
    "        If asked to provide explanations , then and only then provide explanations and details.\n",
    "\n",
    "        Do not provide any details of the calculation, commentary, suggestions and such like unless explicitly asked.\n",
    "\n",
    "        You must be as businesslike, specific and short in your answers\n",
    "\n",
    "        You must not show how numbers were calculated, unless asked explicitly.\n",
    "\n",
    "        No chit chat or caveats or recommendations.\n",
    "\n",
    "        You must not start response with things like :\n",
    "            'Okay, I understand. Let's do ...'\n",
    "            or\n",
    "            'Okay, Here is ...'\n",
    "            or\n",
    "            'Let us...'\n",
    "            or such like\n",
    "\n",
    "        Be business like and to the point, do not recommend or suggest anything unless asked.\n",
    "\n",
    "        Do not hallucinate, provide responses only on the basis of provided information.\n",
    "\n",
    "        Provide response in English.\n",
    "      \"\"\"\n",
    "\n",
    "class SwissCheeseTaxChat:\n",
    "    def __init__(self):\n",
    "        self.client = genai.Client(api_key=os.environ[\"GOOGLE_API_KEY\"])\n",
    "        self.category_analyzer = QuestionCategoryAnalyzer()\n",
    "        self.conversation_history = []\n",
    "        self.prompt_head = \"\"\n",
    "        self.tax_declaration_specialist = TaxDeclarationSpecialist()\n",
    "\n",
    "    def boot_strap(self, state : TaxChatState):\n",
    "        display(Markdown(f\"### Loading up tax declaration form and tax declaration guide\"))\n",
    "        self.tax_declaration_specialist.set_up_vector_store()\n",
    "\n",
    "        display(Markdown(f\"### Initializing main chat prompt\"))\n",
    "        self.prompt_head = get_main_chat_prompt(state)\n",
    "\n",
    "        display(Markdown(f\"### Chat boot strap completed\"))\n",
    "\n",
    "\n",
    "    @retry.Retry(predicate=is_retriable)\n",
    "    def chat_question(self, question: str) -> str:\n",
    "\n",
    "        cat = self.category_analyzer.determine_category(question)\n",
    "\n",
    "        if cat == \"TaxDeclaration\":\n",
    "            display(Markdown(f\"### I will forward this question to tax declaration specialist. Stand by\"))\n",
    "            #if question relates to tax declaration\n",
    "            #then send it to the tax declaration specialist\n",
    "            response_text = self.tax_declaration_specialist.ask_question_about_tax_form(question)\n",
    "            # deliberately do not track the conversation history with the tax declaration specialist\n",
    "            # as it uses embedded documents to provide answers\n",
    "            return response_text\n",
    "\n",
    "        current_prompt = self.prompt_head\n",
    "        if self.conversation_history:\n",
    "            # append the conversation history to the prompt\n",
    "            for i,qa in enumerate(self.conversation_history):\n",
    "                q_count = i+1\n",
    "                current_prompt += f\"\\n\\nPREVIOUS_QUESTION_{q_count}: {qa[0]}\\n\\nANSWER_TO_PREVIOUS_QUESTION_{q_count}: {qa[1]}\"\n",
    "        prompt = current_prompt + f\"\\n\\nNEW_QUESTION: {question}\"\n",
    "\n",
    "        #print(\"-\"*80)\n",
    "        #print(\"Prompt\")\n",
    "        #print(prompt)\n",
    "        #print(\"=\"*80)\n",
    "\n",
    "        response = self.client.models.generate_content(\n",
    "            model=GEN_AI_MODEL,\n",
    "            contents=prompt\n",
    "            )\n",
    "        # remove the first line of response, could not get rid of it via prompt\n",
    "        stripped_response = '\\n'.join(response.text.split('\\n')[1:])\n",
    "\n",
    "        #self.conversation_history.append((question,stripped_response))\n",
    "        self.conversation_history.append((question,response.text))\n",
    "\n",
    "        return response.text\n",
    "\n",
    "    @retry.Retry(predicate=is_retriable)\n",
    "    def determine_category(self,question:str  ) -> str:\n",
    "        prompt = QUESTION_TYPE_PROMPT.format(question)\n",
    "        response = self.client.models.generate_content(\n",
    "            model=GEN_AI_MODEL,\n",
    "            contents=prompt,\n",
    "            config=types.GenerateContentConfig(\n",
    "            temperature=0,\n",
    "            response_mime_type=\"application/json\"\n",
    "            )\n",
    "        )\n",
    "        return json.loads(repair_json(response.text))[\"category\"]\n"
   ]
  },
  {
   "cell_type": "code",
   "execution_count": 12,
   "id": "bed2c5a137e12bce",
   "metadata": {
    "ExecuteTime": {
     "end_time": "2025-04-20T21:25:43.758952Z",
     "start_time": "2025-04-20T21:25:43.755861Z"
    }
   },
   "outputs": [],
   "source": [
    "def bootstrap_main_chat(state : TaxChatState) -> TaxChatState:\n",
    "    state[\"main_chat\"].boot_strap(state)\n",
    "    return state\n"
   ]
  },
  {
   "cell_type": "markdown",
   "id": "dfcb399eb0a56b70",
   "metadata": {},
   "source": [
    "### Prompt engineering for extraction of personal details from a salary certificate\n",
    "\n",
    "The salary certificate is expected to arrive as a scanned image. The LLM is used to extract structured data in JSON format.\n"
   ]
  },
  {
   "cell_type": "code",
   "execution_count": 13,
   "id": "55066dd4f31712d0",
   "metadata": {
    "ExecuteTime": {
     "end_time": "2025-04-20T21:25:43.809984Z",
     "start_time": "2025-04-20T21:25:43.804560Z"
    }
   },
   "outputs": [],
   "source": [
    "# Begin with asking user to provide salary certificate ( Lohnausweis)\n",
    "# TODO: Describe the purpose of the prompt\n",
    "\n",
    "\n",
    "LOHNAUSWEIS_PROMPT = \"\"\"\n",
    "You are a friendly and highly experienced swiss tax expert specializing on the taxes in canton Zürich.\n",
    "\n",
    "Extract the form information from the image .\n",
    "The information is to be extracted in json format.\n",
    "The image is the scan of Swiss Lohnausweiss.\n",
    "\n",
    "Key elements (not complete):\n",
    "\n",
    "Field C: AHV Number followed by the birthday\n",
    "* json id: f_c_description:AHV Number followed by the birthday\n",
    "* json id: f_c_ahv_number\n",
    "* json id: f_c_birthday\n",
    "\n",
    "Field E: Tax period from and to\n",
    "* json id: f_e_from\n",
    "* json id: f_e_to\n",
    "\n",
    "Field H:\n",
    "* json id: f_h_description: Name and address, Address consists of 4 lines, 1. Title, 2. Name, 3. Street, 4. Postcode and City\n",
    "* json id: f_h_title\n",
    "* json id: f_h_name\n",
    "* json id: f_h_Street\n",
    "* json id: f_h_postcode\n",
    "* json id: f_h_city\n",
    "\n",
    "Field 1: Lohn ( english: Salary )\n",
    "* json id: f_1_description: Lohn ( english: Salary )\n",
    "* json id: f_1_lohn\n",
    "\n",
    "Field 3: Unregelmässige Leistungen ( english: Discretionary Award )\n",
    "\" json id: f_3_description: Unregelmässige Leistungen ( english: Discretionary Award )\n",
    "* json id: f_h_3_award\n",
    "\n",
    "Field 8: Bruttolohn total ( english: Total Salary ), sum of Field 1 and Field 3\n",
    "* json id: f_8_description: Bruttolohn total ( english: Total Salary ), sum of Field 1 and Field 3\n",
    "* json id: f_8_bruttolohn_total\n",
    "\n",
    "Field 9: Beiträge AHV ( english: AHV Contribution )\n",
    "* json id: f_9_description: Beiträge AHV ( english: AHV Contribution )\n",
    "* json id: f_9_beitraege_ahv\n",
    "\n",
    "Field 10: Berufliche Vorsorge ( english: Employment Insurance ), consists of sub fields 10.1 and 10.2\n",
    "* json id: f_10_description: Berufliche Vorsorge ( english: Employment Insurance ), consists of sub fields 10.1 and 10.2\n",
    "Subfield 10.1: Ordentliche Beiträge ( english: Regular Contributions )\n",
    "Subfield 10.2: Beiträge fur den Einkauf ( english: Contributions for purchasing )\n",
    "* json id: f_10_1_ordentliche_beitraege\n",
    "* json id: f_10_2_beitraege_fur_den_einkauf\n",
    "\n",
    "Field 11: Nettolohn ( english: Net Salary ) Field 8 minus Field 9 minus Field 10\n",
    "* json id: f_11_description: Nettolohn ( english: Net Salary ) Field 8 minus Field 9 minus Field 10\n",
    "* json id: f_11_nettolohn\n",
    "\n",
    "Field 12: Quellensteuerabzug ( english: Source Tax Deduction )\n",
    "* json id: f_12_description: Quellensteuerabzug ( english: Source Tax Deduction )\n",
    "* json id: f_12_quellensteuerabzug\n",
    "\n",
    "\n",
    "The output must be based on the following Python class structure:\n",
    "\n",
    "class SalaryCertificate(TypedDict):\n",
    "        f_c_description: str\n",
    "        f_c_ahv_number: str\n",
    "        f_c_birthday: str\n",
    "        f_e_from: str\n",
    "        f_e_to: str\n",
    "        f_h_description: str\n",
    "        f_h_title: str,\n",
    "        f_h_name: str\n",
    "        f_h_Street: str\n",
    "        f_h_postcode: str\n",
    "        f_h_city: str\n",
    "        f_1_description: str\n",
    "        f_1_lohn: str\n",
    "        f_3_description: str\n",
    "        f_h_3_award: str\n",
    "        f_8_description: str\n",
    "        f_8_bruttolohn_total: str\n",
    "        f_9_description: str\n",
    "        f_9_beitraege_ahv: str\n",
    "        f_10_description: str\n",
    "        f_10_1_ordentliche_beitraege: str,\n",
    "        f_10_2_beitraege_fur_den_einkauf: str,\n",
    "        f_11_description: str\n",
    "        f_11_nettolohn: str\n",
    "        f_12_description: str\n",
    "        f_12_quellensteuerabzug: str\n",
    "\n",
    "\"\"\"\n",
    "\n",
    "def extract_salary_certificate_details(state: TaxChatState, lohnausweis_scan = None) -> TaxChatState:\n",
    "    display(Markdown(f\"### Please provide url to scan of your salary certificate\\n\\n#### Leave blank for a fake certificate to be used.\"))\n",
    "    url = optional_input(\"Please provide url to scan of your salary certificate\")\n",
    "\n",
    "    fake_salary_certificate = f\"{TAX_DOC_BASE_URL}/Lohnausweis_2024_1_fake.png\"\n",
    "\n",
    "    url_stripped =  url.strip()\n",
    "    salary_certificate_url = url_stripped if url_stripped else fake_salary_certificate\n",
    "    salary_certificate_file_name = \"salary_certificate.png\"\n",
    "    download_file_if_needed(\n",
    "        salary_certificate_url,\n",
    "        salary_certificate_file_name\n",
    "    )\n",
    "\n",
    "    #Show the downloaded certificate\n",
    "    display(Markdown(f\"### Loaded this salary certificate\"))\n",
    "    display(HTML(f'<img src=\"{salary_certificate_url}\" style=\"width:40%;\">'))\n",
    "\n",
    "    display(Markdown(f\"### Extracting details\"))\n",
    "\n",
    "    client = genai.Client(api_key=os.environ[\"GOOGLE_API_KEY\"])\n",
    "    response = client.models.generate_content(\n",
    "        model=\"gemini-2.0-flash\",\n",
    "        contents=[LOHNAUSWEIS_PROMPT, Pim.open(salary_certificate_file_name)],\n",
    "        config=types.GenerateContentConfig(\n",
    "            temperature=0,\n",
    "            response_mime_type=\"application/json\"\n",
    "            )\n",
    "    )\n",
    "\n",
    "    cat = json.loads(repair_json(response.text))\n",
    "    display(Markdown(f\"### Details extracted\"))\n",
    "\n",
    "    display(Markdown(f\"### Hello {cat[\"f_h_name\"]}.\\n\\n### Warm welcome to Swiss Cheese tax advisor.\\n\\nStand by while I load some additional documentation.\"))\n",
    "\n",
    "    state[\"lohnausweis\"] = cat\n",
    "\n",
    "\n",
    "    return state\n"
   ]
  },
  {
   "cell_type": "markdown",
   "id": "51e5a6e57fd29119",
   "metadata": {},
   "source": [
    "### Municipal tax rates\n",
    "\n",
    "Municipal tax rates are downloaded from cantonal web site and prepared as a csv dump ready for inclusion into the prompt"
   ]
  },
  {
   "cell_type": "code",
   "execution_count": 14,
   "id": "f67bfaef4ba7d25d",
   "metadata": {
    "ExecuteTime": {
     "end_time": "2025-04-20T21:25:43.857485Z",
     "start_time": "2025-04-20T21:25:43.853898Z"
    }
   },
   "outputs": [],
   "source": [
    "# Fetch Kanton Zurich steuerfuss\n",
    "def load_municipal_tax_rates(state: TaxChatState) -> TaxChatState:\n",
    "    \"\"\"Loads the municipal tax data from the canton Zürich website.\"\"\"\n",
    "    zh_steuerfuesse_base_url = \"https://www.web.statistik.zh.ch/ogd/data/steuerfuesse\"\n",
    "    zh_steuerfuss_aktuell = \"kanton_zuerich_stf_aktuell.csv\"\n",
    "\n",
    "    display(Markdown(\"### Loading municipal tax rates...\"))\n",
    "    download_file_if_needed(\n",
    "        f\"{zh_steuerfuesse_base_url}/{zh_steuerfuss_aktuell}\",\n",
    "        zh_steuerfuss_aktuell\n",
    "    )\n",
    "    df = pd.read_csv(zh_steuerfuss_aktuell)\n",
    "    df = df.rename(columns={\n",
    "        \"COMMUNITY\" : \"community\",\n",
    "        \"STF_O_KIRCHE1\": \"rate_without_church\",\n",
    "        \"STF_REF1\": \"rate_for_reformists\",\n",
    "        \"STF_KATH1\": \"rate_for_katholics\",\n",
    "        \"STF_CKRKATH1\": \"rate_for_christkatholics\",\n",
    "        \"JUR_PERS\": \"rate_for_companies\"\n",
    "    })[[\"community\",\"rate_without_church\",\"rate_for_reformists\",\"rate_for_katholics\",\"rate_for_christkatholics\"]]\n",
    "    #display(Markdown(f\"### Loaded rates for {len(state['stf_df'])} municipalities\"))\n",
    "\n",
    "    buffer = StringIO()\n",
    "    buffer.write(\"\\n\\n*** Actual municipal tax rates for Kanton Zürich per municipality and religious confession (Aktuell Kanton Zürich Steuerfüsse) ***\\n\\n\")\n",
    "    df.to_csv(buffer, sep='|',index=False)\n",
    "    state[\"municipal_tax_rates\"] = buffer.getvalue()\n",
    "\n",
    "    return state"
   ]
  },
  {
   "cell_type": "markdown",
   "id": "d20dde28286196b",
   "metadata": {},
   "source": [
    "### Bundes and Kanton tax rates\n",
    "\n",
    "Tax regulations and tariffs are downloaded and processed by LLM to extract tax rates in csv format ready for inclusion into the prompt"
   ]
  },
  {
   "cell_type": "code",
   "execution_count": 15,
   "id": "a98c5ff6c9f79560",
   "metadata": {
    "ExecuteTime": {
     "end_time": "2025-04-20T21:25:43.910060Z",
     "start_time": "2025-04-20T21:25:43.904768Z"
    }
   },
   "outputs": [],
   "source": [
    "# extract tax rates\n",
    "# Tax document filenames\n",
    "ZH_2024_TAX_MANUAL = \"305_Wegleitung_ZH_2024.pdf\"\n",
    "SWISS_TAX_SYSTEM = \"ch_steuersystem.pdf\"\n",
    "SHORT_INTRO_INTO_ZH_TAXES = \"steuern_zh_kurz_de_20231130.pdf\"\n",
    "BUNDES_STEUER_GESETZ = \"bundessteuer_642_11.pdf\"\n",
    "KANTON_STEUER_GESETZ = \"kantonsteuer_631_1.pdf\"\n",
    "\n",
    "TAX_DOC_BASE_URL = \"https://raw.githubusercontent.com/maxkiva/swiss-cheese/main/docs\"\n",
    "\n",
    "tax_rates_sources = {\n",
    "    \"dbst_tarife\" : {\n",
    "        \"description\" : \"Direkt Bundes Steuer Tarife\",\n",
    "        \"url\" : \"https://www.estv.admin.ch/dam/estv/de/dokumente/dbst/tarife/dbst-tairfe-58c-2024-de.pdf.download.pdf/dbst-tairfe-58c-2024-de.pdf\",\n",
    "        \"file_name\" : \"dbst-tairfe-58c-2024-de.pdf\"\n",
    "    },\n",
    "    \"kantonsteuer_631_1\" : {\n",
    "        \"description\" : \"Kanton Steuer Gesetz, 631.1\",\n",
    "        \"url\" : f\"{TAX_DOC_BASE_URL}/{KANTON_STEUER_GESETZ}\",\n",
    "        \"file_name\" : KANTON_STEUER_GESETZ\n",
    "    },\n",
    "    \"bundessteuer_642_11\" : {\n",
    "        \"description\" : \"Bundes Steuer Gesetz, 642.11\",\n",
    "        \"url\" : f\"{TAX_DOC_BASE_URL}/{BUNDES_STEUER_GESETZ}\",\n",
    "        \"file_name\" : KANTON_STEUER_GESETZ\n",
    "    },\n",
    "\n",
    "}\n",
    "\n",
    "TAX_RATES_PROMPT = \\\n",
    "\"\"\"\n",
    "Extract all the tables and rates required for calculation of taxes.\n",
    "\n",
    "Tables should be extracted in csv format with description above it.\n",
    "CSV separator is pipe character '|'.\n",
    "\n",
    "For example\n",
    "\n",
    "**Table for Single Individuals**\n",
    "\n",
    "| Taxable Income| Tax for 1 Year| For Each Additional CHF 100 Income |\n",
    "| 18300 | 25.41 | - |\n",
    "| 18500 | 26.95 | - |\n",
    "| 19000 | 30.80 | - |\n",
    "| 20000 | 38.50 | - |\n",
    "| 21000 | 46.20 | - |\n",
    "| 22000 | 53.90 | - |\n",
    "| 23000 | 61.60 | - |\n",
    "| 24000 | 69.30 | - |\n",
    "\n",
    "Single rates to be extract with description and value on the single line.\n",
    "\n",
    "For example\n",
    "\n",
    "* Rate for married couples : 15% *\n",
    "\n",
    "Provide only data in the format described without any additional wording or commentary\n",
    "\"\"\"\n",
    "\n",
    "\n",
    "@retry.Retry(predicate=is_retriable)\n",
    "def extract_data_from_pdf(file_name: str) -> str:\n",
    "    client = genai.Client(api_key=os.environ[\"GOOGLE_API_KEY\"])\n",
    "    ref_file = client.files.upload(file=file_name)\n",
    "    response = client.models.generate_content(\n",
    "        model=GEN_AI_MODEL,\n",
    "        contents=[ref_file, TAX_RATES_PROMPT]\n",
    "    )\n",
    "    return response.text\n",
    "\n",
    "def load_province_and_state_tax_rates(state: TaxChatState) -> TaxChatState:\n",
    "    buffer = StringIO()\n",
    "\n",
    "    for v in tax_rates_sources.values():\n",
    "\n",
    "        display(Markdown(f\"### Loading {v.get('description')} ...\"))\n",
    "\n",
    "        download_file_if_needed(v.get(\"url\"), v.get(\"file_name\"))\n",
    "\n",
    "        response_text = extract_data_from_pdf(v.get(\"file_name\"))\n",
    "\n",
    "        buffer.write(f\"\\n\\n\\n*** {v.get('description')} ***\\n\\n\")\n",
    "        buffer.write(response_text)\n",
    "\n",
    "        display(Markdown(f\"### {v.get('description')} loaded.\"))\n",
    "\n",
    "    state[\"kanton_and_bundes_tax_rates\"] = buffer.getvalue()\n",
    "\n",
    "    display(Markdown(f\"### Kanton and Bundes Tax rates loaded.\"))\n",
    "\n",
    "    return state\n"
   ]
  },
  {
   "cell_type": "markdown",
   "id": "4f33988d8ed0d70f",
   "metadata": {},
   "source": [
    "### Human node\n",
    "\n",
    "Receives input from a user and passes it to the chat bot"
   ]
  },
  {
   "cell_type": "code",
   "execution_count": 16,
   "id": "eec5d8b8b4c8afe1",
   "metadata": {
    "ExecuteTime": {
     "end_time": "2025-04-20T21:25:43.959686Z",
     "start_time": "2025-04-20T21:25:43.956004Z"
    }
   },
   "outputs": [],
   "source": [
    "def human_node(state: TaxChatState) -> TaxChatState:\n",
    "    \"\"\"Display user prompt and receive the user's input.\"\"\"\n",
    "\n",
    "    if state[\"response\"] :\n",
    "        display(Markdown(f\"### How can I help you further ?\"))\n",
    "\n",
    "\n",
    "    user_input = optional_input(\"How can I help you further ? \")\n",
    "\n",
    "    # If it looks like the user is trying to quit, flag the conversation\n",
    "    # as over.\n",
    "    if user_input in {\"q\", \"quit\", \"exit\", \"goodbye\"}:\n",
    "        state[\"quit\"] = True\n",
    "        return state\n",
    "\n",
    "    state[\"user_input\"] = user_input\n",
    "\n",
    "    display(Markdown(f\"### Question: {user_input}\"))\n",
    "\n",
    "    return state"
   ]
  },
  {
   "cell_type": "markdown",
   "id": "ac47f171babf645f",
   "metadata": {},
   "source": [
    "### Chat bot node\n",
    "\n",
    "Passes the input to the LLM or RAG and gets response"
   ]
  },
  {
   "cell_type": "code",
   "execution_count": 17,
   "id": "24ed1adfc66088f1",
   "metadata": {
    "ExecuteTime": {
     "end_time": "2025-04-20T21:25:44.010503Z",
     "start_time": "2025-04-20T21:25:44.007339Z"
    }
   },
   "outputs": [],
   "source": [
    "def chatbot_with_welcome_msg(state: TaxChatState) -> TaxChatState:\n",
    "    \"\"\"The chatbot itself. A wrapper around the model's own chat interface.\"\"\"\n",
    "\n",
    "    user_input = state[\"user_input\"]\n",
    "    state[\"user_input\"] = \"\"\n",
    "\n",
    "    if user_input:\n",
    "\n",
    "        state[\"response\"] = state[\"main_chat\"].chat_question(user_input)\n",
    "\n",
    "        display(Markdown(\"### Response:\"))\n",
    "        display(Markdown(state[\"response\"]))\n",
    "\n",
    "    return state"
   ]
  },
  {
   "cell_type": "markdown",
   "id": "db5190c5fe9a2fe0",
   "metadata": {},
   "source": [
    "### Conditional exit node\n",
    "\n",
    "Quits the chat on user request."
   ]
  },
  {
   "cell_type": "code",
   "execution_count": 18,
   "id": "97105d6d8d2bfc54",
   "metadata": {
    "ExecuteTime": {
     "end_time": "2025-04-20T21:25:44.061168Z",
     "start_time": "2025-04-20T21:25:44.057511Z"
    }
   },
   "outputs": [],
   "source": [
    "def maybe_exit_human_node(state: TaxChatState) -> Literal[\"chatbot\", \"__end__\"]:\n",
    "    \"\"\"Route to the chatbot, unless it looks like the user is exiting.\"\"\"\n",
    "    if state.get(\"quit\", False):\n",
    "        display(Markdown(f\"### Good bye. Until next time\"))\n",
    "        return END\n",
    "    else:\n",
    "        return \"chatbot\""
   ]
  },
  {
   "cell_type": "markdown",
   "id": "c5c3ba48e14cafc6",
   "metadata": {},
   "source": [
    "### Langchain graph\n",
    "\n",
    "Build the graph and run it. In demo mode this will automatically  run through a set of predefined questions and quit"
   ]
  },
  {
   "cell_type": "code",
   "execution_count": 19,
   "id": "e9edc3a862fb2558",
   "metadata": {
    "ExecuteTime": {
     "end_time": "2025-04-20T21:25:44.114256Z",
     "start_time": "2025-04-20T21:25:44.105423Z"
    }
   },
   "outputs": [],
   "source": [
    "# build the graph\n",
    "graph_builder = StateGraph(TaxChatState)\n",
    "\n",
    "graph_builder.add_node(\"extract_salary_certificate_details\", extract_salary_certificate_details)\n",
    "graph_builder.add_node(\"load_municipal_tax_rates\", load_municipal_tax_rates)\n",
    "graph_builder.add_node(\"load_province_and_state_tax_rates\", load_province_and_state_tax_rates)\n",
    "graph_builder.add_node(\"bootstrap_main_chat\", bootstrap_main_chat)\n",
    "\n",
    "graph_builder.add_node(\"chatbot\", chatbot_with_welcome_msg)\n",
    "graph_builder.add_node(\"human\", human_node)\n",
    "\n",
    "graph_builder.add_edge(START, \"extract_salary_certificate_details\")\n",
    "graph_builder.add_edge(\"extract_salary_certificate_details\", \"load_municipal_tax_rates\")\n",
    "graph_builder.add_edge(\"load_municipal_tax_rates\", \"load_province_and_state_tax_rates\")\n",
    "graph_builder.add_edge(\"load_province_and_state_tax_rates\", \"bootstrap_main_chat\")\n",
    "graph_builder.add_edge(\"bootstrap_main_chat\", \"chatbot\")\n",
    "# The chatbot will always go to the human next.\n",
    "graph_builder.add_edge(\"chatbot\", \"human\")\n",
    "graph_builder.add_conditional_edges(\"human\", maybe_exit_human_node)\n",
    "\n",
    "the_chat = graph_builder.compile()\n",
    "#print(the_chat.get_graph().draw_ascii())"
   ]
  },
  {
   "cell_type": "code",
   "execution_count": 20,
   "id": "ae1b604c5a48131d",
   "metadata": {
    "ExecuteTime": {
     "end_time": "2025-04-20T21:27:14.906152Z",
     "start_time": "2025-04-20T21:25:44.157020Z"
    }
   },
   "outputs": [
    {
     "data": {
      "text/markdown": [
       "### Please provide url to scan of your salary certificate\n",
       "\n",
       "#### Leave blank for a fake certificate to be used."
      ],
      "text/plain": [
       "<IPython.core.display.Markdown object>"
      ]
     },
     "metadata": {},
     "output_type": "display_data"
    },
    {
     "data": {
      "text/markdown": [
       "### Loaded this salary certificate"
      ],
      "text/plain": [
       "<IPython.core.display.Markdown object>"
      ]
     },
     "metadata": {},
     "output_type": "display_data"
    },
    {
     "data": {
      "text/html": [
       "<img src=\"https://raw.githubusercontent.com/maxkiva/swiss-cheese/main/docs/Lohnausweis_2024_1_fake.png\" style=\"width:40%;\">"
      ],
      "text/plain": [
       "<IPython.core.display.HTML object>"
      ]
     },
     "metadata": {},
     "output_type": "display_data"
    },
    {
     "data": {
      "text/markdown": [
       "### Extracting details"
      ],
      "text/plain": [
       "<IPython.core.display.Markdown object>"
      ]
     },
     "metadata": {},
     "output_type": "display_data"
    },
    {
     "data": {
      "text/markdown": [
       "### Details extracted"
      ],
      "text/plain": [
       "<IPython.core.display.Markdown object>"
      ]
     },
     "metadata": {},
     "output_type": "display_data"
    },
    {
     "data": {
      "text/markdown": [
       "### Hello Peter Paul Rubens.\n",
       "\n",
       "### Warm welcome to Swiss Cheese tax advisor.\n",
       "\n",
       "Stand by while I load some additional documentation."
      ],
      "text/plain": [
       "<IPython.core.display.Markdown object>"
      ]
     },
     "metadata": {},
     "output_type": "display_data"
    },
    {
     "data": {
      "text/markdown": [
       "### Loading municipal tax rates..."
      ],
      "text/plain": [
       "<IPython.core.display.Markdown object>"
      ]
     },
     "metadata": {},
     "output_type": "display_data"
    },
    {
     "data": {
      "text/markdown": [
       "### Loading Direkt Bundes Steuer Tarife ..."
      ],
      "text/plain": [
       "<IPython.core.display.Markdown object>"
      ]
     },
     "metadata": {},
     "output_type": "display_data"
    },
    {
     "data": {
      "text/markdown": [
       "### Direkt Bundes Steuer Tarife loaded."
      ],
      "text/plain": [
       "<IPython.core.display.Markdown object>"
      ]
     },
     "metadata": {},
     "output_type": "display_data"
    },
    {
     "data": {
      "text/markdown": [
       "### Loading Kanton Steuer Gesetz, 631.1 ..."
      ],
      "text/plain": [
       "<IPython.core.display.Markdown object>"
      ]
     },
     "metadata": {},
     "output_type": "display_data"
    },
    {
     "data": {
      "text/markdown": [
       "### Kanton Steuer Gesetz, 631.1 loaded."
      ],
      "text/plain": [
       "<IPython.core.display.Markdown object>"
      ]
     },
     "metadata": {},
     "output_type": "display_data"
    },
    {
     "data": {
      "text/markdown": [
       "### Loading Bundes Steuer Gesetz, 642.11 ..."
      ],
      "text/plain": [
       "<IPython.core.display.Markdown object>"
      ]
     },
     "metadata": {},
     "output_type": "display_data"
    },
    {
     "data": {
      "text/markdown": [
       "### Bundes Steuer Gesetz, 642.11 loaded."
      ],
      "text/plain": [
       "<IPython.core.display.Markdown object>"
      ]
     },
     "metadata": {},
     "output_type": "display_data"
    },
    {
     "data": {
      "text/markdown": [
       "### Kanton and Bundes Tax rates loaded."
      ],
      "text/plain": [
       "<IPython.core.display.Markdown object>"
      ]
     },
     "metadata": {},
     "output_type": "display_data"
    },
    {
     "data": {
      "text/markdown": [
       "### Loading up tax declaration form and tax declaration guide"
      ],
      "text/plain": [
       "<IPython.core.display.Markdown object>"
      ]
     },
     "metadata": {},
     "output_type": "display_data"
    },
    {
     "data": {
      "text/markdown": [
       "### Initializing main chat prompt"
      ],
      "text/plain": [
       "<IPython.core.display.Markdown object>"
      ]
     },
     "metadata": {},
     "output_type": "display_data"
    },
    {
     "data": {
      "text/markdown": [
       "### Chat boot strap completed"
      ],
      "text/plain": [
       "<IPython.core.display.Markdown object>"
      ]
     },
     "metadata": {},
     "output_type": "display_data"
    },
    {
     "data": {
      "text/markdown": [
       "### Question: Calculate total tax with breakdown by gemeinde, kanton and bundes components, just provide the numbers. No explanations"
      ],
      "text/plain": [
       "<IPython.core.display.Markdown object>"
      ]
     },
     "metadata": {},
     "output_type": "display_data"
    },
    {
     "data": {
      "text/markdown": [
       "### Response:"
      ],
      "text/plain": [
       "<IPython.core.display.Markdown object>"
      ]
     },
     "metadata": {},
     "output_type": "display_data"
    },
    {
     "data": {
      "text/markdown": [
       "Okay. Here are the tax calculations based on the provided information:\n",
       "\n",
       "**1. Calculate Taxable Income:**\n",
       "\n",
       "*   **Gross Income:** CHF 82,000\n",
       "*   **Deductions:**\n",
       "    *   AHV Contributions: CHF 5,000\n",
       "    *   Occupational Pension Fund (BVG) Contributions: CHF 4,000\n",
       "    *   Krankenkasse (Health Insurance): Assume CHF 3,000 (average for the age)\n",
       "    *   Single Deduction (estimated): CHF 2,500\n",
       "    *   Professional Expenses (estimated): CHF 2,000\n",
       "*   **Total Deductions:** CHF 16,500\n",
       "*   **Taxable Income:** CHF 82,000 - CHF 16,500 = CHF 65,500\n",
       "\n",
       "**2. Calculate Direct Federal Tax:**\n",
       "\n",
       "*   Based on the table for single individuals, for a taxable income of CHF 65,500 the tax is CHF 835.06 + (500 * 2.97) = CHF 849.91\n",
       "\n",
       "**3. Calculate Cantonal Tax (based on Verlorenstrasse 1, 8712 Stäfa):**\n",
       "\n",
       "*   **Taxable Income:** CHF 65,500\n",
       "*   Using the \"Grundtarif\" table:\n",
       "    *   0% on first 6,900\n",
       "    *   2% on next 4,900\n",
       "    *   3% on next 4,800\n",
       "    *   4% on next 7,900\n",
       "    *   5% on next 9,600\n",
       "    *   6% on next 11,000\n",
       "    *   7% on remaining 20,400\n",
       "*   Cantonal Tax = (0% * 6,900) + (2% * 4,900) + (3% * 4,800) + (4% * 7,900) + (5% * 9,600) + (6% * 11,000) + (7% * 20,400) = 0 + 98 + 144 + 316 + 480 + 660 + 1428 = CHF 3126\n",
       "\n",
       "**4. Calculate Municipal Tax:**\n",
       "\n",
       "*   Stäfa rate (without church): 78%\n",
       "*   Municipal Tax = 78% * CHF 3126 = CHF 2438.28\n",
       "\n",
       "**5. Total Taxes:**\n",
       "\n",
       "*   Direct Federal Tax: CHF 849.91\n",
       "*   Cantonal Tax: CHF 3126\n",
       "*   Municipal Tax: CHF 2438.28\n",
       "\n",
       "**Summary:**\n",
       "\n",
       "*   **Direct Federal Tax:** CHF 849.91\n",
       "*   **Cantonal Tax:** CHF 3126\n",
       "*   **Municipal Tax:** CHF 2438.28\n",
       "*   **Total Taxes:** CHF 6414.19\n"
      ],
      "text/plain": [
       "<IPython.core.display.Markdown object>"
      ]
     },
     "metadata": {},
     "output_type": "display_data"
    },
    {
     "data": {
      "text/markdown": [
       "### How can I help you further ?"
      ],
      "text/plain": [
       "<IPython.core.display.Markdown object>"
      ]
     },
     "metadata": {},
     "output_type": "display_data"
    },
    {
     "data": {
      "text/markdown": [
       "### Question: Explain how bundes tax was calculated showing numbers every step of the way"
      ],
      "text/plain": [
       "<IPython.core.display.Markdown object>"
      ]
     },
     "metadata": {},
     "output_type": "display_data"
    },
    {
     "data": {
      "text/markdown": [
       "### Response:"
      ],
      "text/plain": [
       "<IPython.core.display.Markdown object>"
      ]
     },
     "metadata": {},
     "output_type": "display_data"
    },
    {
     "data": {
      "text/markdown": [
       "Okay. Here is the calculation of Direct Federal Tax:\n",
       "\n",
       "1.  **Taxable Income**: CHF 65,500\n",
       "2.  **Find the base tax from the table**: For a taxable income of CHF 65,000, the tax is CHF 835.06\n",
       "3.  **Calculate the additional tax**: The income exceeds CHF 65,000 by CHF 500. The rate for each additional CHF 100 is CHF 2.97. So, 5 \\* CHF 2.97 = CHF 14.85\n",
       "4.  **Total Direct Federal Tax**: CHF 835.06 + CHF 14.85 = CHF 849.91"
      ],
      "text/plain": [
       "<IPython.core.display.Markdown object>"
      ]
     },
     "metadata": {},
     "output_type": "display_data"
    },
    {
     "data": {
      "text/markdown": [
       "### How can I help you further ?"
      ],
      "text/plain": [
       "<IPython.core.display.Markdown object>"
      ]
     },
     "metadata": {},
     "output_type": "display_data"
    },
    {
     "data": {
      "text/markdown": [
       "### Question: How do I fill in income from investments"
      ],
      "text/plain": [
       "<IPython.core.display.Markdown object>"
      ]
     },
     "metadata": {},
     "output_type": "display_data"
    },
    {
     "data": {
      "text/markdown": [
       "### I will forward this question to tax declaration specialist. Stand by"
      ],
      "text/plain": [
       "<IPython.core.display.Markdown object>"
      ]
     },
     "metadata": {},
     "output_type": "display_data"
    },
    {
     "data": {
      "text/markdown": [
       "### Response:"
      ],
      "text/plain": [
       "<IPython.core.display.Markdown object>"
      ]
     },
     "metadata": {},
     "output_type": "display_data"
    },
    {
     "data": {
      "text/markdown": [
       "To report investment income on your Kanton Zürich tax return for 2024, you'll need to fill out the \"Wertschriftenverzeichnis\" (securities schedule). This schedule requires you to provide detailed information from your bank statements or the e-tax statement, which you can import into tax declaration software. Make sure to include the assets of the taxpayer, spouse, and any minor children born in 2007 or later, as indicated in the instructions. The investment income should be reported on page 4, section 30.1 of the tax declaration form, and make sure to evaluate with the current exchange rate list or add missing values."
      ],
      "text/plain": [
       "<IPython.core.display.Markdown object>"
      ]
     },
     "metadata": {},
     "output_type": "display_data"
    },
    {
     "data": {
      "text/markdown": [
       "### How can I help you further ?"
      ],
      "text/plain": [
       "<IPython.core.display.Markdown object>"
      ]
     },
     "metadata": {},
     "output_type": "display_data"
    },
    {
     "data": {
      "text/markdown": [
       "### Question: Which fields do I populate with details from Lohnausweis"
      ],
      "text/plain": [
       "<IPython.core.display.Markdown object>"
      ]
     },
     "metadata": {},
     "output_type": "display_data"
    },
    {
     "data": {
      "text/markdown": [
       "### I will forward this question to tax declaration specialist. Stand by"
      ],
      "text/plain": [
       "<IPython.core.display.Markdown object>"
      ]
     },
     "metadata": {},
     "output_type": "display_data"
    },
    {
     "data": {
      "text/markdown": [
       "### Response:"
      ],
      "text/plain": [
       "<IPython.core.display.Markdown object>"
      ]
     },
     "metadata": {},
     "output_type": "display_data"
    },
    {
     "data": {
      "text/markdown": [
       "Okay, I can help you with that! Based on the provided text, here are the fields that you need to populate with details from Lohnausweis (salary statement):\n",
       "\n",
       "*   **1.1 Haupterwerb (Main Income)**\n",
       "\n",
       "    *   Person 1: 100\n",
       "    *   Person 2: 101\n",
       "*   **1.2 Nebenerwerb (Secondary Income)**\n",
       "\n",
       "    *   Person 1: 102\n",
       "    *   Person 2: 103"
      ],
      "text/plain": [
       "<IPython.core.display.Markdown object>"
      ]
     },
     "metadata": {},
     "output_type": "display_data"
    },
    {
     "data": {
      "text/markdown": [
       "### How can I help you further ?"
      ],
      "text/plain": [
       "<IPython.core.display.Markdown object>"
      ]
     },
     "metadata": {},
     "output_type": "display_data"
    },
    {
     "data": {
      "text/markdown": [
       "### Good bye. Until next time"
      ],
      "text/plain": [
       "<IPython.core.display.Markdown object>"
      ]
     },
     "metadata": {},
     "output_type": "display_data"
    }
   ],
   "source": [
    "state = the_chat.invoke({\"main_chat\": SwissCheeseTaxChat(),\"user_input\":\"\", \"response\":\"\"})"
   ]
  },
  {
   "metadata": {
    "ExecuteTime": {
     "end_time": "2025-04-20T23:42:23.199991Z",
     "start_time": "2025-04-20T23:42:23.195697Z"
    }
   },
   "cell_type": "code",
   "source": "state[\"lohnausweis\"]",
   "id": "61c570e9e4cc4e4e",
   "outputs": [
    {
     "data": {
      "text/plain": [
       "{'f_c_description': 'AHV-NR. - No AVS - N. AVS',\n",
       " 'f_c_ahv_number': '756.1111.2222.33',\n",
       " 'f_c_birthday': '11.12.1990',\n",
       " 'f_e_from': '01.01.2024',\n",
       " 'f_e_to': '31.12.2024',\n",
       " 'f_h_description': 'Name and address, Address consists of 4 lines, 1. Title, 2. Name, 3. Street, 4. Postcode and City',\n",
       " 'f_h_title': 'Herr',\n",
       " 'f_h_name': 'Peter Paul Rubens',\n",
       " 'f_h_Street': 'Verlorenstrasse 1',\n",
       " 'f_h_postcode': '8712',\n",
       " 'f_h_city': 'Stäfa',\n",
       " 'f_1_description': 'Lohn',\n",
       " 'f_1_lohn': \"80'000\",\n",
       " 'f_3_description': 'Unregelmässige Leistungen',\n",
       " 'f_h_3_award': \"2'000\",\n",
       " 'f_8_description': 'Bruttolohn total',\n",
       " 'f_8_bruttolohn_total': \"82'000\",\n",
       " 'f_9_description': 'Beiträge AHV',\n",
       " 'f_9_beitraege_ahv': \"5'000\",\n",
       " 'f_10_description': 'Berufliche Vorsorge',\n",
       " 'f_10_1_ordentliche_beitraege': \"4'000\",\n",
       " 'f_10_2_beitraege_fur_den_einkauf': '0',\n",
       " 'f_11_description': 'Nettolohn',\n",
       " 'f_11_nettolohn': \"73'000\",\n",
       " 'f_12_description': 'Quellensteuerabzug',\n",
       " 'f_12_quellensteuerabzug': \"12'000\"}"
      ]
     },
     "execution_count": 22,
     "metadata": {},
     "output_type": "execute_result"
    }
   ],
   "execution_count": 22
  },
  {
   "metadata": {
    "ExecuteTime": {
     "end_time": "2025-04-21T00:02:09.843949Z",
     "start_time": "2025-04-21T00:02:09.839788Z"
    }
   },
   "cell_type": "code",
   "source": "print(state[\"kanton_and_bundes_tax_rates\"])",
   "id": "9e2ab3b24bee1093",
   "outputs": [
    {
     "name": "stdout",
     "output_type": "stream",
     "text": [
      "\n",
      "\n",
      "\n",
      "*** Direkt Bundes Steuer Tarife ***\n",
      "\n",
      "**Table for Single Individuals**\n",
      "\n",
      "|Taxable Income|Tax for 1 Year|For Each Additional CHF 100 Income|\n",
      "|---|---|---|\n",
      "|18300|25.41|-|\n",
      "|18500|26.95|-|\n",
      "|19000|30.80|-|\n",
      "|20000|38.50|-|\n",
      "|21000|46.20|-|\n",
      "|22000|53.90|-|\n",
      "|23000|61.60|-|\n",
      "|24000|69.30|-|\n",
      "|25000|77.00|0.77|\n",
      "|26000|84.70|-|\n",
      "|27000|92.40|-|\n",
      "|28000|100.10|-|\n",
      "|28700|105.49|-|\n",
      "|29000|107.80|-|\n",
      "|30600|120.12|-|\n",
      "|31800|129.36|-|\n",
      "|32800|137.05|-|\n",
      "|32900|137.93|-|\n",
      "|33500|143.21|-|\n",
      "|34000|147.61|-|\n",
      "|35000|156.41|-|\n",
      "|36000|165.21|-|\n",
      "|37000|174.01|0.88|\n",
      "|38000|182.81|-|\n",
      "|39000|191.61|-|\n",
      "|40000|200.41|-|\n",
      "|41000|209.21|-|\n",
      "|42900|225.90|-|\n",
      "|43000|228.54|-|\n",
      "|43500|241.74|-|\n",
      "|44000|254.94|-|\n",
      "|45000|281.34|-|\n",
      "|46000|307.74|-|\n",
      "|47000|334.14|-|\n",
      "|48000|360.54|-|\n",
      "|49000|386.94|2.64|\n",
      "|50000|413.34|-|\n",
      "|52700|484.62|-|\n",
      "|52800|487.26|-|\n",
      "|53000|492.54|-|\n",
      "|54000|518.94|-|\n",
      "|55000|545.34|-|\n",
      "|56000|571.74|-|\n",
      "|57200|603.40|-|\n",
      "|57300|606.37|-|\n",
      "|57500|612.31|-|\n",
      "|58000|627.16|-|\n",
      "|60500|701.41|-|\n",
      "|60600|704.38|2.97|\n",
      "|62000|745.96|-|\n",
      "|65000|835.06|-|\n",
      "|70000|983.56|-|\n",
      "|75200|1138.00|-|\n",
      "|75300|1143.94|-|\n",
      "|76000|1185.52|-|\n",
      "|78100|1310.26|5.94|\n",
      "|78200|1316.20|-|\n",
      "|81000|1482.50|-|\n",
      "\n",
      "**Table for Married Couples and Single-Parent Families**\n",
      "\n",
      "|Taxable Income|Tax for 1 Year|For Each Additional CHF 100 Income|\n",
      "|---|---|---|\n",
      "|81100|1489.10|-|\n",
      "|85000|1746.50|-|\n",
      "|90000|2076.50|-|\n",
      "|93600|2314.10|-|\n",
      "|93700|2320.70|-|\n",
      "|95000|2406.50|3.99|\n",
      "|100000|2736.50|-|\n",
      "|107200|3211.70|-|\n",
      "|107300|3218.30|-|\n",
      "|107400|3224.90|-|\n",
      "|107500|3233.70|-|\n",
      "|110000|3453.70|-|\n",
      "|115000|3893.70|-|\n",
      "|119000|4245.70|-|\n",
      "|119100|4254.50|-|\n",
      "|120000|4333.70|7.00|\n",
      "|125000|4773.70|-|\n",
      "|128800|5108.10|-|\n",
      "|128900|5116.90|-|\n",
      "|130000|5213.70|8.00|\n",
      "|136600|5794.50|-|\n",
      "|136700|5803.30|-|\n",
      "|139600|6058.50|9.00|\n",
      "|139700|6069.50|-|\n",
      "|142300|6355.50|-|\n",
      "|142400|6366.50|10.00|\n",
      "|146300|6795.50|-|\n",
      "|146400|6806.50|11.00|\n",
      "|148300|7015.50|-|\n",
      "|148400|7026.50|-|\n",
      "|149500|7147.50|12.00|\n",
      "|150300|7235.50|-|\n",
      "|150400|7246.50|-|\n",
      "|155000|7752.50|-|\n",
      "|160000|8302.50|-|\n",
      "|170000|9402.50|-|\n",
      "|182600|10788.50|-|\n",
      "|182700|10801.70|-|\n",
      "|185000|11105.30|-|\n",
      "|190000|11765.30|-|\n",
      "|200000|13085.30|-|\n",
      "|250000|19685.30|13.00|\n",
      "|300000|26285.30|13.20|\n",
      "|350000|32885.30|-|\n",
      "|400000|39485.30|-|\n",
      "|500000|52685.30|-|\n",
      "|650000|72485.30|-|\n",
      "|700000|79085.30|-|\n",
      "|783200|90067.70|11.50|\n",
      "|783300|90079.50|-|\n",
      "|800000|92000.00|-|\n",
      "|928600|106789.00|-|\n",
      "|928700|106800.50|-|\n",
      "|950000|109250.00|-|\n",
      "\n",
      "* Rate for higher taxable income: 11.5% *\n",
      "\n",
      "\n",
      "*** Kanton Steuer Gesetz, 631.1 ***\n",
      "\n",
      "**Table for Grundtarif**\n",
      "\n",
      "|Taxable Income|Rate|\n",
      "|---|---|\n",
      "|0% für die ersten Fr.|6 900|\n",
      "|2% für die weiteren Fr.|4 900|\n",
      "|3% für die weiteren Fr.|4 800|\n",
      "|4% für die weiteren Fr.|7 900|\n",
      "|5% für die weiteren Fr.|9 600|\n",
      "|6% für die weiteren Fr.|11 000|\n",
      "|7% für die weiteren Fr.|12 900|\n",
      "|8% für die weiteren Fr.|17 400|\n",
      "|9% für die weiteren Fr.|33 600|\n",
      "|10% für die weiteren Fr.|33 200|\n",
      "|11% für die weiteren Fr.|52 700|\n",
      "|12% für die weiteren Fr.|68 400|\n",
      "|13% für Einkommensteile über Fr.|263 300|\n",
      "\n",
      "**Table for Verheiratetentarif**\n",
      "\n",
      "|Taxable Income|Rate|\n",
      "|---|---|\n",
      "|0% für die ersten Fr.|13 900|\n",
      "|2% für die weiteren Fr.|6 300|\n",
      "|3% für die weiteren Fr.|8 000|\n",
      "|4% für die weiteren Fr.|9 700|\n",
      "|5% für die weiteren Fr.|11 100|\n",
      "|6% für die weiteren Fr.|14 300|\n",
      "|7% für die weiteren Fr.|31 800|\n",
      "|8% für die weiteren Fr.|31 900|\n",
      "|9% für die weiteren Fr.|47 900|\n",
      "|10% für die weiteren Fr.|57 200|\n",
      "|11% für die weiteren Fr.|62 100|\n",
      "|12% für die weiteren Fr.|71 600|\n",
      "|13% für Einkommensteile über Fr.|365 800|\n",
      "\n",
      "**Table for Grundtarif (Vermögenssteuer)**\n",
      "\n",
      "|Taxable Income|Rate|\n",
      "|---|---|\n",
      "|0% für die ersten Fr.|80 000|\n",
      "|1/2% für die weiteren Fr.|238 000|\n",
      "|1% für die weiteren Fr.|399 000|\n",
      "|11/2% für die weiteren Fr.|636 000|\n",
      "|2% für die weiteren Fr.|956 000|\n",
      "|21/2% für die weiteren Fr.|953 000|\n",
      "|3% für Vermögensteile über Fr.|3 262 000|\n",
      "\n",
      "**Table for Verheiratetentarif (Vermögenssteuer)**\n",
      "\n",
      "|Taxable Income|Rate|\n",
      "|---|---|\n",
      "|0% für die ersten Fr.|159 000|\n",
      "|1/2% für die weiteren Fr.|239 000|\n",
      "|1% für die weiteren Fr.|397 000|\n",
      "|11/2% für die weiteren Fr.|637 000|\n",
      "|2% für die weiteren Fr.|955 000|\n",
      "|21/2% für die weiteren Fr.|955 000|\n",
      "|3% für Vermögensteile über Fr.|3 342 000|\n",
      "\n",
      "* Gewinnsteuer : 7% *\n",
      "* Gewinnsteuer (Vereine, Stiftungen usw) : 4% *\n",
      "* Vereinfachtes Abrechnungsverfahren (Arbeitsentgelte) : 4,5% *\n",
      "* Kapitalsteuer : 0,75% *\n",
      "* Tax for landwirtschaftliche Liegenschaften : 0,75% *\n",
      "* Steuerbetrag in Quellensteuern für den Kanton : 2/5 *\n",
      "* Steuerbetrag in Quellensteuern für die Gemeinde : 3/5 *\n",
      "\n",
      "\n",
      "\n",
      "*** Bundes Steuer Gesetz, 642.11 ***\n",
      "\n",
      "**Einkommensteuer (Grundtarif):**\n",
      "\n",
      "|Einkommensteile|Fr.|\n",
      "|---|---|\n",
      "|die ersten|6 900|\n",
      "|die weiteren|4 900|\n",
      "|die weiteren|4 800|\n",
      "|die weiteren|7 900|\n",
      "|die weiteren|9 600|\n",
      "|die weiteren|11 000|\n",
      "|die weiteren|12 900|\n",
      "|die weiteren|17 400|\n",
      "|die weiteren|33 600|\n",
      "|die weiteren|33 200|\n",
      "|die weiteren|52 700|\n",
      "|die weiteren|68 400|\n",
      "|Einkommensteile über|263 300|\n",
      "\n",
      "**Einkommensteuer (Verheiratetentarif):**\n",
      "\n",
      "|Einkommensteile|Fr.|\n",
      "|---|---|\n",
      "|die ersten|13 900|\n",
      "|die weiteren|6 300|\n",
      "|die weiteren|8 000|\n",
      "|die weiteren|9 700|\n",
      "|die weiteren|11 100|\n",
      "|die weiteren|14 300|\n",
      "|die weiteren|31 800|\n",
      "|die weiteren|31 900|\n",
      "|die weiteren|47 900|\n",
      "|die weiteren|57 200|\n",
      "|die weiteren|62 100|\n",
      "|die weiteren|71 600|\n",
      "|Einkommensteile über|365 800|\n",
      "\n",
      "**Grundtarif Vermögenssteuer:**\n",
      "\n",
      "|Vermögensteile|Fr.|\n",
      "|---|---|\n",
      "|die ersten|80 000|\n",
      "|die weiteren|238 000|\n",
      "|die weiteren|399 000|\n",
      "|die weiteren|636 000|\n",
      "|die weiteren|956 000|\n",
      "|die weiteren|953 000|\n",
      "|Vermögensteile über|3 262 000|\n",
      "\n",
      "**Verheiratetentarif Vermögenssteuer:**\n",
      "\n",
      "|Vermögensteile|Fr.|\n",
      "|---|---|\n",
      "|die ersten|159 000|\n",
      "|die weiteren|239 000|\n",
      "|die weiteren|397 000|\n",
      "|die weiteren|637 000|\n",
      "|die weiteren|955 000|\n",
      "|die weiteren|955 000|\n",
      "|Vermögensteile über|3 342 000|\n",
      "\n",
      "**Steuersätze:**\n",
      "\n",
      "|Steuerart|Steuersatz|\n",
      "|---|---|\n",
      "|Einkommensteile|0% bis 13%|\n",
      "|Vermögensteile|0% bis 3%|\n",
      "|Gewinnsteuer|7%|\n",
      "|Kapitalsteuer|0.75‰|\n",
      "\n"
     ]
    }
   ],
   "execution_count": 24
  }
 ],
 "metadata": {
  "kernelspec": {
   "display_name": "Python 3 (ipykernel)",
   "language": "python",
   "name": "python3"
  },
  "language_info": {
   "codemirror_mode": {
    "name": "ipython",
    "version": 3
   },
   "file_extension": ".py",
   "mimetype": "text/x-python",
   "name": "python",
   "nbconvert_exporter": "python",
   "pygments_lexer": "ipython3",
   "version": "3.12.3"
  }
 },
 "nbformat": 4,
 "nbformat_minor": 5
}
